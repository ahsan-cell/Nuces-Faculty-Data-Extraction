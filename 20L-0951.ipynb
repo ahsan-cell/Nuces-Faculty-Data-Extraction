{
 "cells": [
  {
   "cell_type": "markdown",
   "metadata": {},
   "source": [
    "Importing Dependecies"
   ]
  },
  {
   "cell_type": "code",
   "execution_count": 8,
   "metadata": {},
   "outputs": [],
   "source": [
    "from bs4 import BeautifulSoup\n",
    "import requests\n"
   ]
  },
  {
   "cell_type": "markdown",
   "metadata": {},
   "source": [
    "Lahore Campus"
   ]
  },
  {
   "cell_type": "code",
   "execution_count": 60,
   "metadata": {},
   "outputs": [
    {
     "name": "stdout",
     "output_type": "stream",
     "text": [
      "<Response [200]>\n"
     ]
    }
   ],
   "source": [
    "URL = \"http://lhr.nu.edu.pk/faculty/\"\n",
    "r = requests.get(URL) \n",
    "print(r) "
   ]
  },
  {
   "cell_type": "code",
   "execution_count": 61,
   "metadata": {},
   "outputs": [],
   "source": [
    "soup=BeautifulSoup(r.content,'html.parser')"
   ]
  },
  {
   "cell_type": "code",
   "execution_count": 62,
   "metadata": {},
   "outputs": [],
   "source": [
    "CSFaculty=soup.find('div',id='fsc')\n",
    "EEFaculty=soup.find('div',id='ee')\n",
    "CVFaculty=soup.find('div',id='cv')\n",
    "MgtFaculty=soup.find('div',id='fsm')\n",
    "SSFaculty=soup.find('div',id='ss')"
   ]
  },
  {
   "cell_type": "code",
   "execution_count": 63,
   "metadata": {},
   "outputs": [],
   "source": [
    "id=[]\n",
    "name=[]\n",
    "image=[]\n",
    "designation=[]\n",
    "HECApproved=[]\n",
    "department=[]\n",
    "email=[]\n",
    "ext=[]\n",
    "highestEduction=[]"
   ]
  },
  {
   "cell_type": "markdown",
   "metadata": {},
   "source": [
    "Scraping Lahore campus website"
   ]
  },
  {
   "cell_type": "code",
   "execution_count": 64,
   "metadata": {},
   "outputs": [
    {
     "name": "stdout",
     "output_type": "stream",
     "text": [
      "184\n"
     ]
    }
   ],
   "source": [
    "Faculties=[CSFaculty,EEFaculty,CVFaculty,MgtFaculty,SSFaculty]\n",
    "for faculty in Faculties:\n",
    "    facultyCards=faculty.findAll('div',class_='facultyCard')\n",
    "    for card in facultyCards:\n",
    "        department.append(faculty.find('h1').text)\n",
    "        link='https://lhr.nu.edu.pk/'+card.find('a')['href']\n",
    "        try:\n",
    "            id.append(int(link.split('/')[-1]))\n",
    "        except:\n",
    "            id.append(-1)\n",
    "            # print(link,\"ID issues\")\n",
    "        FacultyPage=requests.get(link)\n",
    "        soup2=BeautifulSoup(FacultyPage.content,'html.parser')\n",
    "        FacultyCard=soup2.find('div',class_='facultyCard')\n",
    "        name.append(FacultyCard.find('h5').text)\n",
    "        image.append('https://lhr.nu.edu.pk/'+FacultyCard.find('img')['src'])\n",
    "        email.append(FacultyCard.find('p',class_='mb-0 text-center').text)\n",
    "        try:\n",
    "            ext.append(int(FacultyCard.find('p','mt-0 text-center').text.split('Ext:')[-1]))\n",
    "        except:\n",
    "            # print(link,\"Extension issues\") \n",
    "            ext.append(-1)\n",
    "        try:\n",
    "            highestEduction.append(soup2.find('div',class_='col-lg-8 col-md-6 col-sm-12 text-justify').find('ul').find('li').text.strip())\n",
    "        except:\n",
    "            # print(link,'Highest eduction issues')\n",
    "            highestEduction.append('')\n",
    "        des=FacultyCard.find('p',class_='small text-center font-italic').text.split()\n",
    "        des=' '.join(des)\n",
    "        HEC=True if des.find('HEC Approved PhD')!=-1 else False\n",
    "        if HEC:\n",
    "            des=des.split('HEC')[0].strip()\n",
    "        designation.append(des)\n",
    "        HECApproved.append(HEC)\n",
    "print(len(name))"
   ]
  },
  {
   "cell_type": "markdown",
   "metadata": {},
   "source": [
    "Making Lahore Dataframe"
   ]
  },
  {
   "cell_type": "code",
   "execution_count": 65,
   "metadata": {},
   "outputs": [],
   "source": [
    "import pandas as pd"
   ]
  },
  {
   "cell_type": "code",
   "execution_count": 66,
   "metadata": {},
   "outputs": [
    {
     "data": {
      "text/plain": [
       "<bound method NDFrame.head of        ID                      Name          Designation  HEC Approved PHD  \\\n",
       "0    1238          Dr. Kashif Zafar      Professor & HOD              True   \n",
       "1    4391  Dr. Asif Mahmood Gillani            Professor              True   \n",
       "2    5424         Dr. Hammad Naveed            Professor              True   \n",
       "3    4027            Dr. Aamir Wali  Associate Professor              True   \n",
       "4    6174            Dr. Arshad Ali  Associate Professor              True   \n",
       "..    ...                       ...                  ...               ...   \n",
       "179  6420         Ms. Nokhaiz Zahra           Instructor             False   \n",
       "180  6181            Ms. Rida Ahmed  Instructor On Leave             False   \n",
       "181  6555              Ms. Aqsa Naz   Lecturer (English)             False   \n",
       "182    -1    Mr. Hafiz Umair Gulzar  Lecturer (Islamiat)             False   \n",
       "183  6548          Ms. Rubab Arshad   Lecturer (English)             False   \n",
       "\n",
       "                                      HighestEducation  \\\n",
       "0    Ph.D(Computer Science), NUCES, Islamabad, Paki...   \n",
       "1    Ph.D(Computing), University of Patras , Greece...   \n",
       "2    Ph.D. (Bioengineering), The University of Illi...   \n",
       "3        PhD (CS), FAST-NUCES, Lahore, Pakistan (2019)   \n",
       "4    PhD (CS), University of Paris VI (UPMC) Paris,...   \n",
       "..                                                 ...   \n",
       "179                       MA, Virtual University(2020)   \n",
       "180  BS (English), Fatima Jinnah Women University, ...   \n",
       "181               M.Phil (English), UCP, Lahore (2022)   \n",
       "182       M.Phil (Islamic Studies), GCU, Lahore (2019)   \n",
       "183     MS (Applied Linguistics), NUCES, Lahore (2022)   \n",
       "\n",
       "                        Email                                  Department  \\\n",
       "0      kashif.zafar@nu.edu.pk            FAST School of Computing Faculty   \n",
       "1       asif.gilani@nu.edu.pk            FAST School of Computing Faculty   \n",
       "2     hammad.naveed@nu.edu.pk            FAST School of Computing Faculty   \n",
       "3        aamir.wali@nu.edu.pk            FAST School of Computing Faculty   \n",
       "4       arshad.ali1@nu.edu.pk            FAST School of Computing Faculty   \n",
       "..                        ...                                         ...   \n",
       "179   nokhaiz.zahra@nu.edu.pk  Department of Science & Humanities Faculty   \n",
       "180      rida.ahmed@nu.edu.pk  Department of Science & Humanities Faculty   \n",
       "181        aqsa.naz@nu.edu.pk  Department of Science & Humanities Faculty   \n",
       "182    umair.gulzar@nu.edu.pk  Department of Science & Humanities Faculty   \n",
       "183    rubab.arshad@nu.edu.pk  Department of Science & Humanities Faculty   \n",
       "\n",
       "     Extension                                          Image URL  \n",
       "0          221  https://lhr.nu.edu.pk//media/Faculty/02_-_Dr._...  \n",
       "1          291  https://lhr.nu.edu.pk//media/Faculty/03_-_Dr._...  \n",
       "2          227  https://lhr.nu.edu.pk//media/Faculty/01_-_Dr._...  \n",
       "3          260  https://lhr.nu.edu.pk//media/Faculty/44_-_Dr._...  \n",
       "4          406  https://lhr.nu.edu.pk//media/Faculty/04_-_Dr._...  \n",
       "..         ...                                                ...  \n",
       "179        324  https://lhr.nu.edu.pk//media/Faculty/165_-_Nok...  \n",
       "180        363  https://lhr.nu.edu.pk//media/Faculty/6181-remo...  \n",
       "181        324  https://lhr.nu.edu.pk//media/Faculty/161_-_Aqs...  \n",
       "182        207  https://lhr.nu.edu.pk//media/Faculty/163_-_Haf...  \n",
       "183        286  https://lhr.nu.edu.pk//media/Faculty/162_-_Rub...  \n",
       "\n",
       "[184 rows x 9 columns]>"
      ]
     },
     "execution_count": 66,
     "metadata": {},
     "output_type": "execute_result"
    }
   ],
   "source": [
    "lhr=pd.DataFrame({\n",
    "    'ID':id,'Name':name,'Designation':designation,'HEC Approved PHD':HECApproved,\n",
    "    'HighestEducation':highestEduction,'Email':email,'Department':department,\n",
    "    'Extension':ext,'Image URL':image\n",
    "})\n",
    "lhr.head"
   ]
  },
  {
   "cell_type": "markdown",
   "metadata": {},
   "source": [
    "Exporting Dataframe"
   ]
  },
  {
   "cell_type": "code",
   "execution_count": 67,
   "metadata": {},
   "outputs": [],
   "source": [
    "lhr.to_csv('lhr.csv')"
   ]
  },
  {
   "cell_type": "markdown",
   "metadata": {},
   "source": [
    "Faislabad Campus"
   ]
  },
  {
   "cell_type": "code",
   "execution_count": 68,
   "metadata": {},
   "outputs": [],
   "source": [
    "id=[]\n",
    "name=[]\n",
    "image=[]\n",
    "designation=[]\n",
    "HECApproved=[]\n",
    "department=[]\n",
    "email=[]\n",
    "ext=[]\n",
    "highestEduction=[]"
   ]
  },
  {
   "cell_type": "markdown",
   "metadata": {},
   "source": [
    "Defining User Agents to avoid 403 status code"
   ]
  },
  {
   "cell_type": "code",
   "execution_count": 52,
   "metadata": {},
   "outputs": [],
   "source": [
    "import time\n",
    "import random\n",
    "user_agents_list = [\n",
    "    'Mozilla/5.0 (iPad; CPU OS 12_2 like Mac OS X) AppleWebKit/605.1.15 (KHTML, like Gecko) Mobile/15E148',\n",
    "    'Mozilla/5.0 (Macintosh; Intel Mac OS X 10_15_7) AppleWebKit/537.36 (KHTML, like Gecko) Chrome/99.0.4844.83 Safari/537.36',\n",
    "    'Mozilla/5.0 (Windows NT 10.0; Win64; x64) AppleWebKit/537.36 (KHTML, like Gecko) Chrome/99.0.4844.51 Safari/537.36',\n",
    "    'Mozilla/5.0 (Windows NT 10.0; Win64; x64) AppleWebKit/537.36 (KHTML, like Gecko) Chrome/99.0.4844.83 Safari/537.36',\n",
    "    'Mozilla/5.0 (Windows NT 10.0; Win64; x64; rv:99.0) Gecko/20100101 Firefox/99.0',\n",
    "    'Mozilla/5.0 (Windows NT 10.0; Win64; x64) AppleWebKit/537.36 (KHTML, like Gecko) Edge/99.0.1150.68',\n",
    "    'Mozilla/5.0 (Windows NT 10.0; Win64; x64) AppleWebKit/537.36 (KHTML, like Gecko) Opera/99.0.4661.72',\n",
    "    'Mozilla/5.0 (Windows NT 10.0; Win64; x64) AppleWebKit/537.36 (KHTML, like Gecko) Vivaldi/99.0.835.35',\n",
    "    'Mozilla/5.0 (Windows NT 10.0; Win64; x64) AppleWebKit/537.36 (KHTML, like Gecko) Whale/2.11.127.22',\n",
    "    'Mozilla/5.0 (Windows NT 10.0; Win64; x64) AppleWebKit/537.36 (KHTML, like Gecko) YandexBrowser/22.2.4.78',\n",
    "    'Mozilla/5.0 (iPhone; CPU iPhone OS 15_0 like Mac OS X) AppleWebKit/605.1.15 (KHTML, like Gecko) Version/15.0 Mobile/15E148 Safari/604.1',\n",
    "    'Mozilla/5.0 (iPad; CPU OS 15_0 like Mac OS X) AppleWebKit/605.1.15 (KHTML, like Gecko) Version/15.0 Mobile/15E148 Safari/604.1',\n",
    "    'Mozilla/5.0 (Android 10; Mobile; rv:99.0) Gecko/99.0 Firefox/99.0',\n",
    "    'Mozilla/5.0 (Linux; Android 11; Pixel 4) AppleWebKit/537.36 (KHTML, like Gecko) Chrome/99.0.4844.83 Mobile Safari/537.36',\n",
    "    'Mozilla/5.0 (Macintosh; Intel Mac OS X 11_0_1) AppleWebKit/605.1.15 (KHTML, like Gecko) Version/14.0 Safari/605.1.15',\n",
    "    'Mozilla/5.0 (Windows NT 10.0; Win64; x64) AppleWebKit/537.36 (KHTML, like Gecko) Firefox/99.0',\n",
    "    'Mozilla/5.0 (Windows NT 10.0; Win64; x64) AppleWebKit/537.36 (KHTML, like Gecko) Safari/537.36',\n",
    "    'Mozilla/5.0 (X11; Linux x86_64; rv:99.0) Gecko/99.0 Firefox/99.0',\n",
    "    'Mozilla/5.0 (Macintosh; Intel Mac OS X 10_15_7) AppleWebKit/605.1.15 (KHTML, like Gecko) Edge/99.0.1150.68 Safari/605.1.15',\n",
    "    'Mozilla/5.0 (Windows NT 10.0; Win64; x64) AppleWebKit/537.36 (KHTML, like Gecko) OPR/99.0.4661.72',\n",
    "    'Mozilla/5.0 (Windows NT 10.0; Win64; x64) AppleWebKit/537.36 (KHTML, like Gecko) Chrome/99.0.4844.83 Safari/537.36 EdgA/99.0.1150.68',\n",
    "    'Mozilla/5.0 (Windows NT 10.0; Win64; x64) AppleWebKit/537.36 (KHTML, like Gecko) Chrome/99.0.4844.83 Safari/537.36 Edg/99.0.1150.68',\n",
    "    'Mozilla/5.0 (Windows NT 10.0; Win64; x64) AppleWebKit/537.36 (KHTML, like Gecko) Chrome/99.0.4844.83 Safari/537.36 Edg/99.0.1150.64',\n",
    "    'Mozilla/5.0 (Windows NT 10.0; Win64; x64) AppleWebKit/537.36 (KHTML, like Gecko) Chrome/99.0.4844.83 Safari/537.36 Vivaldi/99.0.835.35',\n",
    "    'Mozilla/5.0 (Windows NT 10.0; Win64; x64) AppleWebKit/537.36 (KHTML, like Gecko) Chrome/99.0.4844.83 Safari/537.36 Whale/2.11.127.22',\n",
    "    'Mozilla/5.0 (Windows NT 10.0; Win64; x64) AppleWebKit/537.36 (KHTML, like Gecko) Chrome/99.0.4844.83 Safari/537.36 YandexBrowser/22.2.4.78',\n",
    "    'Mozilla/5.0 (iPhone; CPU iPhone OS 15_0 like Mac OS X) AppleWebKit/605.1.15 (KHTML, like Gecko) Version/15.0 Mobile/15E148 Safari/604.1',\n",
    "    'Mozilla/5.0 (iPad; CPU OS 15_0 like Mac OS X) AppleWebKit/605.1.15 (KHTML, like Gecko) Version/15.0 Mobile/15E148 Safari/604.1',\n",
    "    'Mozilla/5.0 (Linux; Android 11; Pixel 4) AppleWebKit/537.36 (KHTML, like Gecko) Chrome/99.0.4844.83 Mobile Safari/537.36',\n",
    "]"
   ]
  },
  {
   "cell_type": "markdown",
   "metadata": {},
   "source": [
    "Function to retrieve Highest Eductation "
   ]
  },
  {
   "cell_type": "code",
   "execution_count": 69,
   "metadata": {},
   "outputs": [],
   "source": [
    "def highestEducationRetrievor(soup2):\n",
    "    try:\n",
    "        x=soup2.find('div',class_='htc__skill__container progress__bar--2').findAll('p')\n",
    "        if len(x):\n",
    "            if len(x)==1:\n",
    "                x=x[0].text.split('\\n')\n",
    "                if len(x)==2 and x[1][0]=='M':\n",
    "                    x=x[1]\n",
    "                else:\n",
    "                    x=x[0]\n",
    "            elif len(x)>5:\n",
    "                x=x[0].text+' '+x[1].text\n",
    "            else:\n",
    "                if x[0].text=='\\xa0':\n",
    "                     x=x[1].text\n",
    "                else:\n",
    "                    x=x[0].text\n",
    "            # highestEduction.append(soup2.find('div',class_='htc__skill__container progress__bar--2').findAll('p')[0].text)\n",
    "        else:\n",
    "            x=soup2.find('div',class_='htc__skill__container progress__bar--2').find('ul')\n",
    "            if x==None:\n",
    "                x=soup2.find('div',class_='htc__skill__container progress__bar--2').find('ol')\n",
    "                x=x.text.split('\\n')[1]\n",
    "            else:\n",
    "                x=soup2.find('div',class_='htc__skill__container progress__bar--2').find('ul').text.split('\\n')\n",
    "                if len(x)==0:\n",
    "                    x=soup2.find('div',class_='htc__skill__container progress__bar--2').find('ol').text.split('\\n')\n",
    "                if len(x)>6:\n",
    "                    x=x[1:3]\n",
    "                    x=''.join(x)\n",
    "                else:\n",
    "                    x=x[1]\n",
    "        return x.strip()\n",
    "    except:\n",
    "        return 'not found'\n"
   ]
  },
  {
   "cell_type": "markdown",
   "metadata": {},
   "source": [
    "Scraping Faislabad Campus Website"
   ]
  },
  {
   "cell_type": "code",
   "execution_count": 70,
   "metadata": {},
   "outputs": [
    {
     "name": "stdout",
     "output_type": "stream",
     "text": [
      "https://cfd.nu.edu.pk/all-departments/ 200\n",
      "200\n",
      "https://cfd.nu.edu.pk/department-cs\n",
      "200\n",
      "cards=  49\n",
      "https://cfd.nu.edu.pk/department-se\n",
      "200\n",
      "cards=  15\n",
      "https://cfd.nu.edu.pk/department-ee\n",
      "200\n",
      "cards=  13\n",
      "https://cfd.nu.edu.pk/department-sh\n",
      "200\n",
      "cards=  20\n",
      "https://cfd.nu.edu.pk/department-fsm\n",
      "200\n",
      "cards=  9\n",
      "total= 106 got= 106 didnt get= 0\n"
     ]
    }
   ],
   "source": [
    "total=0\n",
    "got=0\n",
    "didntget=0\n",
    "URL='https://cfd.nu.edu.pk/all-departments/'\n",
    "response=requests.get(URL,headers={'User-Agent': random.choice(user_agents_list)})\n",
    "print(URL,response.status_code)\n",
    "print(response.status_code)\n",
    "soup=BeautifulSoup(response.content,'html.parser')\n",
    "a=soup.find('section',class_='kc-elm kc-css-249015 kc_row').findAll('a')\n",
    "links=[]\n",
    "for i in range(len(a)):\n",
    "    links.append(a[i]['href'])\n",
    "for link in links:\n",
    "    print(link)\n",
    "    response=requests.get(link,headers={'User-Agent': random.choice(user_agents_list)})\n",
    "    print(response.status_code)\n",
    "    soup=BeautifulSoup(response.content,'html.parser')\n",
    "    cards=soup.findAll('div',class_='col-md-3 col-sm-6 col-xs-12')\n",
    "    print('cards= ',len(cards))\n",
    "    for card in cards:\n",
    "        cardLink=card.find('a')['href']\n",
    "        HEC=card.find('p',class_='hec')!=None\n",
    "        response2=requests.get(cardLink,headers={'User-Agent': random.choice(user_agents_list)})\n",
    "        time.sleep(5)\n",
    "        total+=1\n",
    "        if response2.status_code==200:\n",
    "            got+=1\n",
    "            HECApproved.append(HEC)\n",
    "            soup2=BeautifulSoup(response2.content,'html.parser')\n",
    "            id.append(int(soup2.find('link',rel='shortlink')['href'].split('=')[-1]))\n",
    "            teacher=soup2.find('div',class_='teacher')\n",
    "            image.append(teacher.find('img')['src'])\n",
    "            name.append(teacher.find('h2').text)\n",
    "            designation.append(teacher.find('h6').text)\n",
    "            department.append(teacher.find('ul',class_='teacher__address').text.split('\\n')[3].strip())\n",
    "            email.append(teacher.find('ul',class_='teacher__address').text.split('\\n')[6].strip())\n",
    "            try:\n",
    "                ext.append(teacher.find('ul',class_='teacher__address').text.split('\\n')[12].strip())\n",
    "            except:\n",
    "                ext.append(-1)\n",
    "            x=highestEducationRetrievor(soup2)\n",
    "            highestEduction.append(x)\n",
    "        else:\n",
    "            print(cardLink,'X')\n",
    "            didntget+=1\n",
    "print('total=',total,'got=',got,'didnt get=',didntget)\n"
   ]
  },
  {
   "cell_type": "markdown",
   "metadata": {},
   "source": [
    "Making Faislabad Dataframe"
   ]
  },
  {
   "cell_type": "code",
   "execution_count": 71,
   "metadata": {},
   "outputs": [],
   "source": [
    "faislabad=pd.DataFrame({\n",
    "    'ID':id,'Name':name,'Designation':designation,'HEC Approved PHD':HECApproved,\n",
    "    'HighestEducation':highestEduction,'Email':email,'Department':department,\n",
    "    'Extension':ext,'Image URL':image\n",
    "})\n",
    "faislabad.to_csv('cfd.csv')"
   ]
  },
  {
   "cell_type": "code",
   "execution_count": 72,
   "metadata": {},
   "outputs": [
    {
     "data": {
      "text/html": [
       "<div>\n",
       "<style scoped>\n",
       "    .dataframe tbody tr th:only-of-type {\n",
       "        vertical-align: middle;\n",
       "    }\n",
       "\n",
       "    .dataframe tbody tr th {\n",
       "        vertical-align: top;\n",
       "    }\n",
       "\n",
       "    .dataframe thead th {\n",
       "        text-align: right;\n",
       "    }\n",
       "</style>\n",
       "<table border=\"1\" class=\"dataframe\">\n",
       "  <thead>\n",
       "    <tr style=\"text-align: right;\">\n",
       "      <th></th>\n",
       "      <th>ID</th>\n",
       "      <th>Name</th>\n",
       "      <th>Designation</th>\n",
       "      <th>HEC Approved PHD</th>\n",
       "      <th>HighestEducation</th>\n",
       "      <th>Email</th>\n",
       "      <th>Department</th>\n",
       "      <th>Extension</th>\n",
       "      <th>Image URL</th>\n",
       "    </tr>\n",
       "  </thead>\n",
       "  <tbody>\n",
       "    <tr>\n",
       "      <th>0</th>\n",
       "      <td>6074</td>\n",
       "      <td>Muhammad Ahmad</td>\n",
       "      <td>Associate Professor</td>\n",
       "      <td>True</td>\n",
       "      <td>Doctor of Philosophy (Hyperspectral Imaging) (...</td>\n",
       "      <td>dr.ahmad@nu.edu.pk</td>\n",
       "      <td>Department of Computer Science</td>\n",
       "      <td>160</td>\n",
       "      <td>https://cfd.nu.edu.pk/wp-content/uploads/2020/...</td>\n",
       "    </tr>\n",
       "    <tr>\n",
       "      <th>1</th>\n",
       "      <td>4748</td>\n",
       "      <td>Shahzad Sarfraz</td>\n",
       "      <td>Professor</td>\n",
       "      <td>True</td>\n",
       "      <td>Ph.D. in Remote Sensing Image Processing AIT, ...</td>\n",
       "      <td>shahzad.sarfraz@nu.edu.pk</td>\n",
       "      <td>Department of Computer Science</td>\n",
       "      <td>102</td>\n",
       "      <td>https://cfd.nu.edu.pk/wp-content/uploads/2019/...</td>\n",
       "    </tr>\n",
       "    <tr>\n",
       "      <th>2</th>\n",
       "      <td>507933</td>\n",
       "      <td>Anwar Shah</td>\n",
       "      <td>Assistant Professor</td>\n",
       "      <td>True</td>\n",
       "      <td>PhD Computer Sciences, FAST-NUCES, Peshawar</td>\n",
       "      <td>Anwar.Shah@nu.edu.pk</td>\n",
       "      <td>Department of Computer Science</td>\n",
       "      <td>131</td>\n",
       "      <td>https://cfd.nu.edu.pk/wp-content/uploads/2022/...</td>\n",
       "    </tr>\n",
       "    <tr>\n",
       "      <th>3</th>\n",
       "      <td>4752</td>\n",
       "      <td>Bilal Khan</td>\n",
       "      <td>Assistant Professor</td>\n",
       "      <td>True</td>\n",
       "      <td>Ph.D. (Computer Science &amp; Engineering), Donggu...</td>\n",
       "      <td>khan.bilal@nu.edu.pk</td>\n",
       "      <td>Department of Computer Science</td>\n",
       "      <td>126</td>\n",
       "      <td>https://cfd.nu.edu.pk/wp-content/uploads/2019/...</td>\n",
       "    </tr>\n",
       "    <tr>\n",
       "      <th>4</th>\n",
       "      <td>4772</td>\n",
       "      <td>Hashim Yasin</td>\n",
       "      <td>Assistant Professor</td>\n",
       "      <td>True</td>\n",
       "      <td>Ph.D. (Computer Science), University of Bonn, ...</td>\n",
       "      <td>hashim.yasin@nu.edu.pk</td>\n",
       "      <td>Department of Computer Science</td>\n",
       "      <td>165</td>\n",
       "      <td>https://cfd.nu.edu.pk/wp-content/uploads/2019/...</td>\n",
       "    </tr>\n",
       "  </tbody>\n",
       "</table>\n",
       "</div>"
      ],
      "text/plain": [
       "       ID             Name          Designation  HEC Approved PHD  \\\n",
       "0    6074   Muhammad Ahmad  Associate Professor              True   \n",
       "1    4748  Shahzad Sarfraz            Professor              True   \n",
       "2  507933       Anwar Shah  Assistant Professor              True   \n",
       "3    4752       Bilal Khan  Assistant Professor              True   \n",
       "4    4772     Hashim Yasin  Assistant Professor              True   \n",
       "\n",
       "                                    HighestEducation  \\\n",
       "0  Doctor of Philosophy (Hyperspectral Imaging) (...   \n",
       "1  Ph.D. in Remote Sensing Image Processing AIT, ...   \n",
       "2        PhD Computer Sciences, FAST-NUCES, Peshawar   \n",
       "3  Ph.D. (Computer Science & Engineering), Donggu...   \n",
       "4  Ph.D. (Computer Science), University of Bonn, ...   \n",
       "\n",
       "                       Email                      Department Extension  \\\n",
       "0         dr.ahmad@nu.edu.pk  Department of Computer Science       160   \n",
       "1  shahzad.sarfraz@nu.edu.pk  Department of Computer Science       102   \n",
       "2       Anwar.Shah@nu.edu.pk  Department of Computer Science       131   \n",
       "3       khan.bilal@nu.edu.pk  Department of Computer Science       126   \n",
       "4     hashim.yasin@nu.edu.pk  Department of Computer Science       165   \n",
       "\n",
       "                                           Image URL  \n",
       "0  https://cfd.nu.edu.pk/wp-content/uploads/2020/...  \n",
       "1  https://cfd.nu.edu.pk/wp-content/uploads/2019/...  \n",
       "2  https://cfd.nu.edu.pk/wp-content/uploads/2022/...  \n",
       "3  https://cfd.nu.edu.pk/wp-content/uploads/2019/...  \n",
       "4  https://cfd.nu.edu.pk/wp-content/uploads/2019/...  "
      ]
     },
     "execution_count": 72,
     "metadata": {},
     "output_type": "execute_result"
    }
   ],
   "source": [
    "faislabad.head()"
   ]
  },
  {
   "cell_type": "markdown",
   "metadata": {},
   "source": [
    "Peshawar Campus"
   ]
  },
  {
   "cell_type": "code",
   "execution_count": 73,
   "metadata": {},
   "outputs": [],
   "source": [
    "FacultyLinks=[\n",
    "    'http://pwr.nu.edu.pk/cs-faculty/',\n",
    "    'http://pwr.nu.edu.pk/ee-faculty/',\n",
    "    'http://pwr.nu.edu.pk/sh-faculty/'\n",
    "]"
   ]
  },
  {
   "cell_type": "code",
   "execution_count": 74,
   "metadata": {},
   "outputs": [],
   "source": [
    "id=[]\n",
    "name=[]\n",
    "image=[]\n",
    "designation=[]\n",
    "HECApproved=[]\n",
    "department=[]\n",
    "email=[]\n",
    "ext=[]\n",
    "highestEduction=[]"
   ]
  },
  {
   "cell_type": "markdown",
   "metadata": {},
   "source": [
    "Scraping Peshawar Website"
   ]
  },
  {
   "cell_type": "code",
   "execution_count": 75,
   "metadata": {},
   "outputs": [],
   "source": [
    "for link in FacultyLinks:\n",
    "    response=requests.get(link)\n",
    "    soup=BeautifulSoup(response.content,'html.parser')\n",
    "    teachers=soup.findAll('a',class_='text-theme-color-2')\n",
    "    for i in range(len(teachers)):\n",
    "        teacherLink='http://pwr.nu.edu.pk/'+teachers[i]['href']\n",
    "        id.append(teacherLink.split('=')[-1])\n",
    "        response2=requests.get(teacherLink)\n",
    "        soup2=BeautifulSoup(response2.content,'html.parser')\n",
    "        name.append(soup2.find('h4',class_='name font-24 mt-0 mb-0').text.strip())\n",
    "        designation.append(soup2.find('h5',class_='mt-5 text-theme-color-2').text)\n",
    "        department.append(soup2.find('li',class_='text-gray').text[0:-8])\n",
    "        HECApproved.append(soup2.find('h5',style='color: green').text!='')\n",
    "        highestEduction.append(soup2.find('ul',class_='list').find('li').text.strip())\n",
    "        ext.append(int(soup2.find('ul',class_='list-inline mt-5').text.split()[3]))\n",
    "        email.append(soup2.find('ul',class_='list-inline mt-5').text.split()[4])\n",
    "        image.append('http://pwr.nu.edu.pk'+soup2.find('div',class_='thumb').find('img')['src'])\n",
    "        "
   ]
  },
  {
   "cell_type": "markdown",
   "metadata": {},
   "source": [
    "Making Peshawar Dataframe"
   ]
  },
  {
   "cell_type": "code",
   "execution_count": 78,
   "metadata": {},
   "outputs": [
    {
     "data": {
      "text/html": [
       "<div>\n",
       "<style scoped>\n",
       "    .dataframe tbody tr th:only-of-type {\n",
       "        vertical-align: middle;\n",
       "    }\n",
       "\n",
       "    .dataframe tbody tr th {\n",
       "        vertical-align: top;\n",
       "    }\n",
       "\n",
       "    .dataframe thead th {\n",
       "        text-align: right;\n",
       "    }\n",
       "</style>\n",
       "<table border=\"1\" class=\"dataframe\">\n",
       "  <thead>\n",
       "    <tr style=\"text-align: right;\">\n",
       "      <th></th>\n",
       "      <th>ID</th>\n",
       "      <th>Name</th>\n",
       "      <th>Designation</th>\n",
       "      <th>HEC Approved PHD</th>\n",
       "      <th>HighestEducation</th>\n",
       "      <th>Email</th>\n",
       "      <th>Department</th>\n",
       "      <th>Extension</th>\n",
       "      <th>Image URL</th>\n",
       "    </tr>\n",
       "  </thead>\n",
       "  <tbody>\n",
       "    <tr>\n",
       "      <th>0</th>\n",
       "      <td>1</td>\n",
       "      <td>Dr. Hafeez Ur Rehman</td>\n",
       "      <td>Associate Professor &amp; HoD</td>\n",
       "      <td>True</td>\n",
       "      <td>Ph.D. in Computer and Control Engineering, Pol...</td>\n",
       "      <td>hafeez.urrehman@nu.edu.pk</td>\n",
       "      <td>Computer Science</td>\n",
       "      <td>107</td>\n",
       "      <td>http://pwr.nu.edu.pkimages/faculty/dr_hafeez_2...</td>\n",
       "    </tr>\n",
       "    <tr>\n",
       "      <th>1</th>\n",
       "      <td>2</td>\n",
       "      <td>Dr. Omar Usman Khan</td>\n",
       "      <td>Associate Professor &amp; Director</td>\n",
       "      <td>True</td>\n",
       "      <td>Ph.D. (Computer And Control Engineering), Poli...</td>\n",
       "      <td>omar.khan@nu.edu.pk</td>\n",
       "      <td>Computer Science</td>\n",
       "      <td>103</td>\n",
       "      <td>http://pwr.nu.edu.pkimages/faculty/Dr_Omer_Usm...</td>\n",
       "    </tr>\n",
       "    <tr>\n",
       "      <th>2</th>\n",
       "      <td>3</td>\n",
       "      <td>Dr. Nouman Azam</td>\n",
       "      <td>Associate Professor</td>\n",
       "      <td>True</td>\n",
       "      <td>Ph.D. (CS), University of Regina, Canada (2014)</td>\n",
       "      <td>nouman.azam@nu.edu.pk</td>\n",
       "      <td>Computer Science</td>\n",
       "      <td>134</td>\n",
       "      <td>http://pwr.nu.edu.pkimages/faculty/Dr_noman_az...</td>\n",
       "    </tr>\n",
       "    <tr>\n",
       "      <th>3</th>\n",
       "      <td>4</td>\n",
       "      <td>Dr. Mohammad Nauman</td>\n",
       "      <td>Associate Professor</td>\n",
       "      <td>True</td>\n",
       "      <td>PhD(IT), University of Kuala Lumpur, Malaysia ...</td>\n",
       "      <td>mohammad.nauman@nu.edu.pk</td>\n",
       "      <td>Computer Science</td>\n",
       "      <td>126</td>\n",
       "      <td>http://pwr.nu.edu.pkimages/faculty/Dr. noman 2...</td>\n",
       "    </tr>\n",
       "    <tr>\n",
       "      <th>4</th>\n",
       "      <td>5</td>\n",
       "      <td>Dr. Taimoor Khan</td>\n",
       "      <td>Assistant Professor</td>\n",
       "      <td>True</td>\n",
       "      <td>Ph.D. (Computer Science), Bahria University Is...</td>\n",
       "      <td>taimoor.khan@nu.edu.pk</td>\n",
       "      <td>Computer Science</td>\n",
       "      <td>127</td>\n",
       "      <td>http://pwr.nu.edu.pkimages/faculty/Dr_M_Taimoo...</td>\n",
       "    </tr>\n",
       "  </tbody>\n",
       "</table>\n",
       "</div>"
      ],
      "text/plain": [
       "  ID                  Name                      Designation  HEC Approved PHD  \\\n",
       "0  1  Dr. Hafeez Ur Rehman        Associate Professor & HoD              True   \n",
       "1  2   Dr. Omar Usman Khan  Associate Professor & Director               True   \n",
       "2  3       Dr. Nouman Azam              Associate Professor              True   \n",
       "3  4   Dr. Mohammad Nauman              Associate Professor              True   \n",
       "4  5      Dr. Taimoor Khan              Assistant Professor              True   \n",
       "\n",
       "                                    HighestEducation  \\\n",
       "0  Ph.D. in Computer and Control Engineering, Pol...   \n",
       "1  Ph.D. (Computer And Control Engineering), Poli...   \n",
       "2    Ph.D. (CS), University of Regina, Canada (2014)   \n",
       "3  PhD(IT), University of Kuala Lumpur, Malaysia ...   \n",
       "4  Ph.D. (Computer Science), Bahria University Is...   \n",
       "\n",
       "                       Email        Department  Extension  \\\n",
       "0  hafeez.urrehman@nu.edu.pk  Computer Science        107   \n",
       "1        omar.khan@nu.edu.pk  Computer Science        103   \n",
       "2      nouman.azam@nu.edu.pk  Computer Science        134   \n",
       "3  mohammad.nauman@nu.edu.pk  Computer Science        126   \n",
       "4     taimoor.khan@nu.edu.pk  Computer Science        127   \n",
       "\n",
       "                                           Image URL  \n",
       "0  http://pwr.nu.edu.pkimages/faculty/dr_hafeez_2...  \n",
       "1  http://pwr.nu.edu.pkimages/faculty/Dr_Omer_Usm...  \n",
       "2  http://pwr.nu.edu.pkimages/faculty/Dr_noman_az...  \n",
       "3  http://pwr.nu.edu.pkimages/faculty/Dr. noman 2...  \n",
       "4  http://pwr.nu.edu.pkimages/faculty/Dr_M_Taimoo...  "
      ]
     },
     "execution_count": 78,
     "metadata": {},
     "output_type": "execute_result"
    }
   ],
   "source": [
    "peshawar=pd.DataFrame({\n",
    "    'ID':id,'Name':name,'Designation':designation,'HEC Approved PHD':HECApproved,\n",
    "    'HighestEducation':highestEduction,'Email':email,'Department':department,\n",
    "    'Extension':ext,'Image URL':image\n",
    "})\n",
    "peshawar.head()"
   ]
  },
  {
   "cell_type": "markdown",
   "metadata": {},
   "source": [
    "Exporting Dataframe"
   ]
  },
  {
   "cell_type": "code",
   "execution_count": 79,
   "metadata": {},
   "outputs": [],
   "source": [
    "peshawar.to_csv('pwr.csv')"
   ]
  },
  {
   "cell_type": "markdown",
   "metadata": {},
   "source": [
    "Loading all Dataframes"
   ]
  },
  {
   "cell_type": "code",
   "execution_count": 81,
   "metadata": {},
   "outputs": [],
   "source": [
    "lahore=pd.read_csv('lhr.csv',index_col=[0])\n",
    "peshawar=pd.read_csv('pwr.csv',index_col=[0])\n",
    "faislabad=pd.read_csv('cfd.csv',index_col=[0])\n"
   ]
  },
  {
   "cell_type": "markdown",
   "metadata": {},
   "source": [
    "Concatinating Dataframe and exporting "
   ]
  },
  {
   "cell_type": "code",
   "execution_count": 58,
   "metadata": {},
   "outputs": [],
   "source": [
    "fast_faculty=pd.concat([lahore,peshawar,faislabad],ignore_index=True)\n",
    "fast_faculty.head()\n",
    "fast_faculty.to_csv('fast_faculty.csv')"
   ]
  },
  {
   "cell_type": "markdown",
   "metadata": {},
   "source": [
    "Sampling"
   ]
  },
  {
   "cell_type": "code",
   "execution_count": 59,
   "metadata": {},
   "outputs": [],
   "source": [
    "faculty=pd.read_csv('fast_faculty.csv',index_col=[0])\n",
    "sample_=faculty.sample(frac=0.1)\n",
    "sample_.to_csv('sample.csv')"
   ]
  }
 ],
 "metadata": {
  "kernelspec": {
   "display_name": "Python 3",
   "language": "python",
   "name": "python3"
  },
  "language_info": {
   "codemirror_mode": {
    "name": "ipython",
    "version": 3
   },
   "file_extension": ".py",
   "mimetype": "text/x-python",
   "name": "python",
   "nbconvert_exporter": "python",
   "pygments_lexer": "ipython3",
   "version": "3.11.4"
  },
  "orig_nbformat": 4
 },
 "nbformat": 4,
 "nbformat_minor": 2
}
